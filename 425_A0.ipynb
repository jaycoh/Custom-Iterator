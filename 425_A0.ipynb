{
  "nbformat": 4,
  "nbformat_minor": 0,
  "metadata": {
    "colab": {
      "name": "425 A0",
      "provenance": [],
      "authorship_tag": "ABX9TyMlEv4JF8kxNZXm69k1vbOK",
      "include_colab_link": true
    },
    "kernelspec": {
      "name": "python3",
      "display_name": "Python 3"
    }
  },
  "cells": [
    {
      "cell_type": "markdown",
      "metadata": {
        "id": "view-in-github",
        "colab_type": "text"
      },
      "source": [
        "<a href=\"https://colab.research.google.com/github/jaycoh/Custom-Iterator/blob/master/425_A0.ipynb\" target=\"_parent\"><img src=\"https://colab.research.google.com/assets/colab-badge.svg\" alt=\"Open In Colab\"/></a>"
      ]
    },
    {
      "cell_type": "markdown",
      "metadata": {
        "id": "--IYAQUCjavL"
      },
      "source": [
        "# New Section"
      ]
    },
    {
      "cell_type": "code",
      "metadata": {
        "id": "SJu21rnIjdrs"
      },
      "source": [
        ""
      ],
      "execution_count": null,
      "outputs": []
    },
    {
      "cell_type": "code",
      "metadata": {
        "colab": {
          "base_uri": "https://localhost:8080/"
        },
        "id": "QAo83XUhj1Cm",
        "outputId": "6146dde2-6617-491c-a623-2bc16c1ab3ae"
      },
      "source": [
        "from google.colab import drive\n",
        "drive.mount('/content/drive')\n",
        "from google.colab.patches import cv2_imshow"
      ],
      "execution_count": null,
      "outputs": [
        {
          "output_type": "stream",
          "text": [
            "Drive already mounted at /content/drive; to attempt to forcibly remount, call drive.mount(\"/content/drive\", force_remount=True).\n"
          ],
          "name": "stdout"
        }
      ]
    },
    {
      "cell_type": "code",
      "metadata": {
        "id": "MFn86pTvkRYV"
      },
      "source": [
        "from PIL import Image\r\n",
        "import numpy as np\r\n"
      ],
      "execution_count": null,
      "outputs": []
    },
    {
      "cell_type": "code",
      "metadata": {
        "colab": {
          "base_uri": "https://localhost:8080/"
        },
        "id": "8ihR7ejLkW7I",
        "outputId": "53f26b7f-fbaa-45fc-ffd9-002eb7b11fb3"
      },
      "source": [
        "im = Image.open('peacock.png')\r\n",
        "print(im.size, im.mode, im.format)"
      ],
      "execution_count": null,
      "outputs": [
        {
          "output_type": "stream",
          "text": [
            "(640, 480) RGB PNG\n"
          ],
          "name": "stdout"
        }
      ]
    },
    {
      "cell_type": "code",
      "metadata": {
        "id": "2tQWcv3DmQRg"
      },
      "source": [
        "im1 = im.convert('L')\r\n",
        "im2 = im1.crop((475,130,575,230))\r\n",
        "im2.save('peacock_head.png','PNG')"
      ],
      "execution_count": null,
      "outputs": []
    },
    {
      "cell_type": "code",
      "metadata": {
        "id": "MM4Es4u8ndbm"
      },
      "source": [
        "im2_array = np.asarray(im2)\r\n",
        "average = np.mean(im2_array)"
      ],
      "execution_count": null,
      "outputs": []
    },
    {
      "cell_type": "code",
      "metadata": {
        "id": "Ic2yT_COnrlY"
      },
      "source": [
        "im3_array = im2_array.copy()\r\n",
        "\r\n",
        "for x in range(0,100):\r\n",
        "  for y in range(0,100):\r\n",
        "    im3_array[y,x] = min(im3_array[y,x] + 50, 225)\r\n",
        "    "
      ],
      "execution_count": null,
      "outputs": []
    },
    {
      "cell_type": "code",
      "metadata": {
        "id": "DC4J19uRoKso"
      },
      "source": [
        "im3 = Image.fromarray(im3_array)\r\n",
        "im3.save('peacock_head_bright.png','PNG')"
      ],
      "execution_count": null,
      "outputs": []
    },
    {
      "cell_type": "code",
      "metadata": {
        "id": "UNUTXYC2pz1o"
      },
      "source": [
        "im4_array = im2_array.copy()"
      ],
      "execution_count": null,
      "outputs": []
    },
    {
      "cell_type": "code",
      "metadata": {
        "id": "ewWMBqxWp6yg"
      },
      "source": [
        "im4_array = im4_array * 0.5\r\n",
        "im4_array = im4_array.astype('uint8')\r\n",
        "\r\n",
        "im4 = Image.fromarray(im4_array)\r\n",
        "im4.save('peacock_head_dark.png', 'PNG')"
      ],
      "execution_count": null,
      "outputs": []
    },
    {
      "cell_type": "code",
      "metadata": {
        "colab": {
          "base_uri": "https://localhost:8080/"
        },
        "id": "Dfi1tZ0tq4fM",
        "outputId": "7a3d25cc-b2f6-46f9-a574-6de2e249c23c"
      },
      "source": [
        "grad = np.arange(0,256)\r\n",
        "print(grad)\r\n",
        "grad = np.tile(grad, [256,1])\r\n",
        "print(grad)\r\n",
        "im5 = Image.fromarray(grad.astype('uint8'))\r\n",
        "im5.save('gradient.png', 'PNG')"
      ],
      "execution_count": null,
      "outputs": [
        {
          "output_type": "stream",
          "text": [
            "[  0   1   2   3   4   5   6   7   8   9  10  11  12  13  14  15  16  17\n",
            "  18  19  20  21  22  23  24  25  26  27  28  29  30  31  32  33  34  35\n",
            "  36  37  38  39  40  41  42  43  44  45  46  47  48  49  50  51  52  53\n",
            "  54  55  56  57  58  59  60  61  62  63  64  65  66  67  68  69  70  71\n",
            "  72  73  74  75  76  77  78  79  80  81  82  83  84  85  86  87  88  89\n",
            "  90  91  92  93  94  95  96  97  98  99 100 101 102 103 104 105 106 107\n",
            " 108 109 110 111 112 113 114 115 116 117 118 119 120 121 122 123 124 125\n",
            " 126 127 128 129 130 131 132 133 134 135 136 137 138 139 140 141 142 143\n",
            " 144 145 146 147 148 149 150 151 152 153 154 155 156 157 158 159 160 161\n",
            " 162 163 164 165 166 167 168 169 170 171 172 173 174 175 176 177 178 179\n",
            " 180 181 182 183 184 185 186 187 188 189 190 191 192 193 194 195 196 197\n",
            " 198 199 200 201 202 203 204 205 206 207 208 209 210 211 212 213 214 215\n",
            " 216 217 218 219 220 221 222 223 224 225 226 227 228 229 230 231 232 233\n",
            " 234 235 236 237 238 239 240 241 242 243 244 245 246 247 248 249 250 251\n",
            " 252 253 254 255]\n",
            "[[  0   1   2 ... 253 254 255]\n",
            " [  0   1   2 ... 253 254 255]\n",
            " [  0   1   2 ... 253 254 255]\n",
            " ...\n",
            " [  0   1   2 ... 253 254 255]\n",
            " [  0   1   2 ... 253 254 255]\n",
            " [  0   1   2 ... 253 254 255]]\n"
          ],
          "name": "stdout"
        }
      ]
    }
  ]
}